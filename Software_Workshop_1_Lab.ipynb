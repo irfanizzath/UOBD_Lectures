{
  "nbformat": 4,
  "nbformat_minor": 0,
  "metadata": {
    "colab": {
      "provenance": [],
      "authorship_tag": "ABX9TyMrV7brUs8xaqnnEW8UNQLm",
      "include_colab_link": true
    },
    "kernelspec": {
      "name": "python3",
      "display_name": "Python 3"
    },
    "language_info": {
      "name": "python"
    }
  },
  "cells": [
    {
      "cell_type": "markdown",
      "metadata": {
        "id": "view-in-github",
        "colab_type": "text"
      },
      "source": [
        "<a href=\"https://colab.research.google.com/github/irfanizzath/UOBD_Lectures/blob/main/Software_Workshop_1_Lab.ipynb\" target=\"_parent\"><img src=\"https://colab.research.google.com/assets/colab-badge.svg\" alt=\"Open In Colab\"/></a>"
      ]
    },
    {
      "cell_type": "markdown",
      "source": [
        "# **Software Workshop - 1 Lab**"
      ],
      "metadata": {
        "id": "HEjNqUuoH0h0"
      }
    },
    {
      "cell_type": "markdown",
      "source": [
        "Write a program which asks the user for an integer number.\n",
        "The program should print “The war is over!!” if the number is\n",
        "exactly 1945, otherwise do nothing"
      ],
      "metadata": {
        "id": "J1fDRBO0F2Ff"
      }
    },
    {
      "cell_type": "code",
      "source": [
        "num = int(input('Dear User, please enter a number: '))\n",
        "if num == 1945:\n",
        "    print(\"The war is over!!\")\n",
        "else:\n",
        "    print()"
      ],
      "metadata": {
        "colab": {
          "base_uri": "https://localhost:8080/"
        },
        "id": "td0bWCBNF5qE",
        "outputId": "4b2e3c4e-6f58-4441-af7c-fd31481876bf"
      },
      "execution_count": null,
      "outputs": [
        {
          "output_type": "stream",
          "name": "stdout",
          "text": [
            "Dear User, please enter a number: 1945\n",
            "The war is over!!\n"
          ]
        }
      ]
    },
    {
      "cell_type": "markdown",
      "source": [
        "Write a program which asks the user for an integer number. If\n",
        "the number is less than zero, the program should print out\n",
        "the number multiplied by -1. Otherwise, the program prints\n",
        "out the number as is. For example, if -9 is inputted then the\n",
        "output should be 9. If 150 is inputted, then the output\n",
        "should be 150.\n"
      ],
      "metadata": {
        "id": "tnnprtZtGB4G"
      }
    },
    {
      "cell_type": "code",
      "source": [
        "num = int(input('Dear User, please enter a number: '))\n",
        "if num < 0:\n",
        "    print(num * -1)\n",
        "else:\n",
        "    print(num)\n"
      ],
      "metadata": {
        "colab": {
          "base_uri": "https://localhost:8080/"
        },
        "id": "rvygNFpRGR2K",
        "outputId": "00fa178a-0f05-44b2-fd4a-bc1270b1034b"
      },
      "execution_count": null,
      "outputs": [
        {
          "output_type": "stream",
          "name": "stdout",
          "text": [
            "Dear User, please enter a number: -6\n",
            "6\n"
          ]
        }
      ]
    },
    {
      "cell_type": "markdown",
      "source": [
        "Write program that asks the user for 2 numbers and an\n",
        "    operation. If the operation is add, multiply or subtract, the\n",
        "program should calculate and print out the result of the\n",
        "operation with the given numbers. If the user types anything\n",
        "else, the program should print out nothing. For example, if\n",
        "    the numbers are 4 and 5 and the operation is add, then the\n",
        "output should be as follows:\n",
        "number 1: 4\n",
        "number 2: 5\n",
        "operation: add\n",
        "4 + 5 = 9\n"
      ],
      "metadata": {
        "id": "AmgjLhqbGZHB"
      }
    },
    {
      "cell_type": "code",
      "source": [
        "num1= int(input('Dear User, Please Enter Number 1 : '))\n",
        "num2= int(input('Dear User, Please Enter Number 2 : '))\n",
        "operation = str(input('Dear User, please enter a operation: ')).upper()\n",
        "\n",
        "if operation == 'ADD':\n",
        "    print(f'{num1} + {num2} = ',num1 + num2)\n",
        "elif operation == 'SUBTRACT':\n",
        "    print(f'{num1} - {num2} = ',num1 - num2)\n",
        "elif operation == 'MULTIPLY':\n",
        "    print(f'{num1} *  {num2} = ',num1 * num2)\n",
        "elif operation == 'DIVIDE':\n",
        "    print(f'{num1} / {num2} =',num1 / num2)\n",
        "else:\n",
        "    print()"
      ],
      "metadata": {
        "colab": {
          "base_uri": "https://localhost:8080/"
        },
        "id": "K6zskSLSGcY-",
        "outputId": "23b87095-1939-4680-8b0d-54f67b59c7e0"
      },
      "execution_count": null,
      "outputs": [
        {
          "output_type": "stream",
          "name": "stdout",
          "text": [
            "Dear User, Please Enter Number 1 : 6\n",
            "Dear User, Please Enter Number 2 : 9\n",
            "Dear User, please enter a operation: divide\n",
            "6 / 9 = 0.6666666666666666\n"
          ]
        }
      ]
    },
    {
      "cell_type": "markdown",
      "source": [
        "Write a program which asks for the hourly wage, hours worked\n",
        "and the day of the week. The program should then print out\n",
        "the daily wages, which equal hourly wage multiplied by hours\n",
        "worked, except on Sundays when the hourly wage is double. The\n",
        "output could look as follows:\n"
      ],
      "metadata": {
        "id": "3-oRyJRhGlQL"
      }
    },
    {
      "cell_type": "code",
      "source": [
        "hourly_wage = float(input(\"Hourly Wage: \"))\n",
        "hours_worked = float(input(\"Hours Worked: \"))\n",
        "day_of_week = str(input(\"Day of Week: \")).upper()\n",
        "\n",
        "while day_of_week != 'SUNDAY':\n",
        "    print('Daily wage: ',hourly_wage *  hours_worked, 'pounds')\n",
        "    break\n",
        "else:\n",
        "    print('Daily wage: ',hourly_wage *  hours_worked * 2, 'pounds')\n"
      ],
      "metadata": {
        "id": "tY2hCiYkGylr"
      },
      "execution_count": null,
      "outputs": []
    },
    {
      "cell_type": "markdown",
      "source": [
        "Write a program which asks for tomorrow’s weather forecast\n",
        "and then suggests weather-appropriate clothing. The\n",
        "suggestion should change if the temperature is over 20, 10 or\n",
        "5 degrees and if there is rain on the way."
      ],
      "metadata": {
        "id": "uUyI74OhG1xT"
      }
    },
    {
      "cell_type": "code",
      "source": [
        "print('What is the weather forecast for tomorrow?')\n",
        "temperature = int(input('Temperature: '))\n",
        "rain = str(input('Will it Rain (Yes/No): ')).upper()\n",
        "\n",
        "while temperature:\n",
        "    print('Wear jeans and a T')\n",
        "    if temperature < 20 :\n",
        "        print('A jumper is recommended')\n",
        "        if temperature < 5 :\n",
        "            print('Take a warm coat')\n",
        "            if rain == 'YES':\n",
        "                print('Take an umbrella')\n",
        "                break\n",
        "            break\n",
        "        break\n",
        "    break"
      ],
      "metadata": {
        "id": "4F0t8N2hG7A_"
      },
      "execution_count": null,
      "outputs": []
    },
    {
      "cell_type": "markdown",
      "source": [
        "Write a program to produce a grade calculator. Ask the user\n",
        "to ender a grade (0 to 100)."
      ],
      "metadata": {
        "id": "w5Jm5B5RHGf8"
      }
    },
    {
      "cell_type": "code",
      "source": [
        "grade = int(input(\"Enter your grade: \"))\n",
        "\n",
        "if grade >= 70:\n",
        "    print('A')\n",
        "elif grade >= 60:\n",
        "    print('B')\n",
        "elif grade >= 50:\n",
        "    print('C')\n",
        "elif grade >= 40:\n",
        "    print('D')\n",
        "else:\n",
        "    print('Fail')\n"
      ],
      "metadata": {
        "colab": {
          "base_uri": "https://localhost:8080/"
        },
        "id": "RfebzB2qHECC",
        "outputId": "0c22740a-5182-4464-a10d-1238cdecb3d3"
      },
      "execution_count": 1,
      "outputs": [
        {
          "output_type": "stream",
          "name": "stdout",
          "text": [
            "Enter your grade: 93\n",
            "A\n"
          ]
        }
      ]
    },
    {
      "cell_type": "code",
      "source": [
        "num = int(input('Enter a number:'))\n",
        "while num != 0:\n",
        "    print(num)\n",
        "    num -= 1\n",
        "print('DONE!!!')"
      ],
      "metadata": {
        "colab": {
          "base_uri": "https://localhost:8080/"
        },
        "id": "8oqL_7_OHK_2",
        "outputId": "84e6e229-32a5-4577-e431-89b34557c282"
      },
      "execution_count": null,
      "outputs": [
        {
          "output_type": "stream",
          "name": "stdout",
          "text": [
            "Enter a number:7\n",
            "7\n",
            "6\n",
            "5\n",
            "4\n",
            "3\n",
            "2\n",
            "1\n",
            "DONE!!!\n"
          ]
        }
      ]
    },
    {
      "cell_type": "code",
      "source": [
        "item = True\n",
        "total = 0\n",
        "\n",
        "while item:\n",
        "    item = str(input('Enter item: ')).strip()\n",
        "    if item == 'XXX':\n",
        "        break\n",
        "    else:\n",
        "        qty = int(input('Enter quantity: '))\n",
        "        unit_price = float(input('Enter unit price: '))\n",
        "        if qty <   10:\n",
        "            total += qty * unit_price\n",
        "            print(F'Total for {item}: € {total}')\n",
        "        else:\n",
        "            total += qty * unit_price * 0.9\n",
        "            print(F'Total for {item}: € {total}', '(10% Discount applied)')\n",
        "\n",
        "print('Grand Total: € ',total)"
      ],
      "metadata": {
        "colab": {
          "base_uri": "https://localhost:8080/"
        },
        "id": "t65tDOeZHVr9",
        "outputId": "4f63711d-8b1c-4ac3-f686-05e621e4a72a"
      },
      "execution_count": null,
      "outputs": [
        {
          "output_type": "stream",
          "name": "stdout",
          "text": [
            "Enter item: Eggs\n",
            "Enter quantity: 20\n",
            "Enter unit price: 2\n",
            "Total for Eggs: € 36.0 (10% Discount applied)\n",
            "Enter item: Milk\n",
            "Enter quantity: 1\n",
            "Enter unit price: 10\n",
            "Total for Milk: € 46.0\n",
            "Enter item: Apple\n",
            "Enter quantity: 2\n",
            "Enter unit price: 2\n",
            "Total for Apple: € 50.0\n",
            "Enter item: XXX\n",
            "Grand Total: €  50.0\n"
          ]
        }
      ]
    },
    {
      "cell_type": "code",
      "source": [
        "import random\n",
        "\n",
        "def dice(money, a, b):\n",
        "    if a + b == 7:\n",
        "        return money + 4\n",
        "    else:\n",
        "        return money - 1\n",
        "\n",
        "\n",
        "money = int(input(\"Enter your money: \"))\n",
        "rolls = 0\n",
        "\n",
        "while money > 0:\n",
        "    choice = str(input(\"Enter your choice (Yes/No) : \"))\n",
        "    if choice == \"Yes\":\n",
        "        rolls += 1\n",
        "        dice_1 = random.randint(1,6)\n",
        "        dice_2 = random.randint(1,6)\n",
        "        print('Dice 1: ', dice_1)\n",
        "        print('Dice 2: ', dice_2)\n",
        "        money = dice(money, dice_1,  dice_2)\n",
        "        print('number of rolls', rolls)\n",
        "        print('money', money)\n",
        "\n",
        "    else:\n",
        "        print('number of rolls', rolls)\n",
        "        print('money', money)\n",
        "        break"
      ],
      "metadata": {
        "colab": {
          "base_uri": "https://localhost:8080/"
        },
        "id": "WiKeY4kJHcMi",
        "outputId": "4e61c36e-84ea-40f2-95b5-36e595e42f99"
      },
      "execution_count": null,
      "outputs": [
        {
          "output_type": "stream",
          "name": "stdout",
          "text": [
            "Enter your money: 10\n",
            "Enter your choice (Yes/No) : Yes\n",
            "Dice 1:  2\n",
            "Dice 2:  5\n",
            "number of rolls 1\n",
            "money 14\n",
            "Enter your choice (Yes/No) : Yes\n",
            "Dice 1:  6\n",
            "Dice 2:  3\n",
            "number of rolls 2\n",
            "money 13\n",
            "Enter your choice (Yes/No) : No\n",
            "number of rolls 2\n",
            "money 13\n"
          ]
        }
      ]
    },
    {
      "cell_type": "code",
      "execution_count": null,
      "metadata": {
        "colab": {
          "base_uri": "https://localhost:8080/"
        },
        "id": "qyDWNq3Rk2xj",
        "outputId": "a1a75ca7-8320-47d3-cfe2-d5781289bb65"
      },
      "outputs": [
        {
          "output_type": "stream",
          "name": "stdout",
          "text": [
            "Question 1: What is 1 + 8?\n",
            "Your answer: 9\n",
            "Correct!\n",
            "Question 2: What is 9 + 1?\n",
            "Your answer: 10\n",
            "Correct!\n",
            "Question 3: What is 5 / 8?\n",
            "Your answer: 8\n",
            "Incorrect. The correct answer was 0.625\n",
            "Question 4: What is 1 + 2?\n",
            "Your answer: 3\n",
            "Correct!\n",
            "Question 5: What is 8 + 10?\n",
            "Your answer: 18\n",
            "Correct!\n",
            "Question 6: What is 8 + 8?\n",
            "Your answer: 16\n",
            "Correct!\n",
            "Question 7: What is 7 + 6?\n",
            "Your answer: 3\n",
            "Incorrect. The correct answer was 13\n",
            "Question 8: What is 9 / 2?\n",
            "Your answer: 8\n",
            "Incorrect. The correct answer was 4.5\n",
            "Question 9: What is 9 - 1?\n",
            "Your answer: 9\n",
            "Incorrect. The correct answer was 8\n",
            "Question 10: What is 8 - 10?\n",
            "Your answer: -2\n",
            "Correct!\n",
            "You got 6 out of 10 correct\n"
          ]
        }
      ],
      "source": [
        "import random\n",
        "n = 1\n",
        "\n",
        "correct = 0\n",
        "while n <= 10:\n",
        "        num_1 = random.randint(1,10)\n",
        "        num_2 = random.randint(1,10)\n",
        "\n",
        "        operators = ['+', '-', '*', '/']\n",
        "        # Randomly choose an operator\n",
        "        operator = random.choice(operators)\n",
        "        if operator == '+':\n",
        "            print(f'Question {n}: What is {num_1} + {num_2}?')\n",
        "            ans = int(input('Your answer: '))\n",
        "            if num_1 + num_2 == ans:\n",
        "                print('Correct!')\n",
        "                correct += 1\n",
        "            else:\n",
        "                print(f'Incorrect. The correct answer was {num_1 + num_2}')\n",
        "\n",
        "        elif operator == '-':\n",
        "            print(f'Question {n}: What is {num_1} - {num_2}?')\n",
        "            ans = int(input('Your answer: '))\n",
        "            if num_1 - num_2 == ans:\n",
        "                print('Correct!')\n",
        "                correct += 1\n",
        "            else:\n",
        "                print(f'Incorrect. The correct answer was {num_1 - num_2}')\n",
        "\n",
        "        elif operator == '*':\n",
        "            print(f'Question {n}: What is {num_1} x {num_2}?')\n",
        "            ans = int(input('Your answer: '))\n",
        "            if num_1 * num_2 == ans:\n",
        "                print('Correct!')\n",
        "                correct += 1\n",
        "            else:\n",
        "                print(f'Incorrect. The correct answer was {num_1 * num_2}')\n",
        "\n",
        "        elif operator == '/':\n",
        "            print(f'Question {n}: What is {num_1} / {num_2}?')\n",
        "            ans = int(input('Your answer: '))\n",
        "            if num_1 / num_2 == ans:\n",
        "                print('Correct!')\n",
        "                correct += 1\n",
        "            else:\n",
        "                print(f'Incorrect. The correct answer was {num_1 / num_2}')\n",
        "\n",
        "        n += 1\n",
        "print(f'You got {correct} out of {n-1} correct')"
      ]
    }
  ]
}