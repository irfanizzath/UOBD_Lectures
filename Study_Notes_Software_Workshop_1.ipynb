{
  "nbformat": 4,
  "nbformat_minor": 0,
  "metadata": {
    "colab": {
      "provenance": [],
      "authorship_tag": "ABX9TyP1ihlXuwo1PwlFF0jpmfPz",
      "include_colab_link": true
    },
    "kernelspec": {
      "name": "python3",
      "display_name": "Python 3"
    },
    "language_info": {
      "name": "python"
    }
  },
  "cells": [
    {
      "cell_type": "markdown",
      "metadata": {
        "id": "view-in-github",
        "colab_type": "text"
      },
      "source": [
        "<a href=\"https://colab.research.google.com/github/irfanizzath/UOBD_Lectures/blob/main/Study_Notes_Software_Workshop_1.ipynb\" target=\"_parent\"><img src=\"https://colab.research.google.com/assets/colab-badge.svg\" alt=\"Open In Colab\"/></a>"
      ]
    },
    {
      "cell_type": "markdown",
      "source": [
        "\n",
        "<img src=\"data:image/png;base64,iVBORw0KGgoAAAANSUhEUgAAAYUAAACBCAMAAAAYG1bYAAACBFBMVEX///8AAAAdHRtXks7kIxTo6OjR0dEbGxm1vr7IxsJDgb3cAADj4+P5+fkMDAj8/Pz8wwAwMC83XINVl9XLy8sXFxXu7u6wsLCRGA3b29u2trYGBgDExMTy8vJmQ1z/yAB8fHxYWFfrHwWYmJiIiIhAQD9LS0qgoKCysrF0dHSbm5s4ODYmJiTdmQ6RkZEAEhtbW1r2uwUAABxqamnrrQnTjBDwswfMghITGRvkowznpwu9bBWCgoLDdRRlZWQAGxoTAAC7YwAACxwMFhvaOhTQiBHMew3jABXyqwDmnQAUHhwcGRKweReWFQRCKzseSnLbcRHGQBLCXRSZioeDiaDcVhNSaJlQerVoi7rLVBPBijI6g8uhk4Wxj2lTWYW5SBIabbzYozltZYCwdEKcWz3EQjO3Uj6wg0vcJRXnswq+lT/ffAvhLQB7WmqGZ2SVdmFGToaMWlSzazDEIBDAkE+If4/NnjipiVeURFLUABNxh65IaKIgdcXSQSWUaVS/Xg3Kp10wWqC+VTCVXVesYzViZ4mGg5e4OxHEiToOUJ+vSkuudU2kineRfoYARa27hEhxGBFbUHabTkM1FxQfKjdIFxMpQFm0HBA+GQBfLwA1GwBvPwCCWDHCppHu18a/lXPbwq5EFxOfbAD52bA+KR5dPx6SXhmBWhs3Kx7awabpwIPfs4TAsJYrAAAfF0lEQVR4nO1di38bR53fUSKpR1YPI63ESitWjl6RrZW9sXbllSy3diLZJuZI2rpN4mvz4BFDaQJJj15KaSlX2gDl4ICjlGtDL03S1z95v5nZx8xKluXE3F1y++2nsfahfcx3fu+ZkSAECBAgQIAAAQIECBAgQIAAAQIECBAgQIAAAQI8FJSv7YVv/uNX98K30nvcRRbDFKJItmN0hyjHBJEe8s4Ni+6ZMed7ophx9uNvkfMK9jfFWMK9vIsCPkNkdmdGvXuzvlTDF7Mv6N5NLggx/xXpU4bdU2LDL5lt1hfqzZzzLvRckT7F+PZ54shhDmtr9l93z9Gvpw4BUuRf/Nf+4CH1lX/YgwWlhghmcxH6wrllvLmcKwhKiRxRvJep5fGOGWC2oDTp9+YVEfbTz6icoy+Zq5LNWizmXN5DCZ8RyTWYXVNlvilm4ErZWh3Fa+kqvaBSp2cuKRkh4r8igSAXnVMK/BtG4LvTS6WZJrxYhb5MBO6AQvPT07PwN7EPFk6ePK1//wwwsGU9fZJn4Zlt2uKHnt0eomFPFqBtUSgUDTE7mvl8mX4Kw6EQYpsoJCGn72bhYHyefi6gKJzIyF1VytuH0nAasrunDNQ17TPgGwiTllBm83l3L/kuKtIPS9B8zs5iPBTKN+nzomUiIkvxEIqQKzTiDeeB6r63UxqoLDsbOeg1tNFrKE5v0kQ+0nzwWNja2mrpqqobvY7VUlvmGY6FlPYc+fNPprreeR5/OrsvFoQpyX4/GzHktJqwAO8usQzVnBbCp0HzOoKCWwAxuqWEGs7HeJQ5IiKbYNKGWfqxIoXQjPvVeVR1Ps6geedjBDn9QUYLdBcQYxMfo3ebjofiy9yrZSqoxm4XQmgqQS9isyBMj1dJLgun9aSpGVqnZSYtrZPUO+ds8aAsPLt+fhuToOpJS8UfX9h4MbUfFupx2itdTM06n6DLQP+a9g7JzJkSNK/obOCuHfHOa3ob8xLLT9bprMAbOuZcFFrYUQxp5OwGVN1bF/A59tl27/VYELJx/G+YETv7Hsv2ZrhZqcxHcC/IT9NTHRYUURgHl4WTarKlw3+q2dK0ZFLTL9D9BmEh9cLG+kX4c0nvdFqt9cupb+vmd55P7YOFZp5TJtBubofKNZbwm5XdQxmmqXEXdsUZLsIK1HzF/YhJZqTEubbisSAgRp3V4wzREVcs4JxonN/HsBCjBJVRKL/k3aruXqmMkK2WFuJEfjOUhfHaCAOzcOG7a4e/972NKz1du7JhampST3b01mlCws73j2AWzp7X9MtgE5KWpVq6rj/3bNdsYV4mZqEE7SGzOxZc5arkhVmJUTzwut6ZVYnpeSK0Ut67BGPTl3gWnIZJMyxgPp39VYnV7Z4YwvWnyIeIo7wYFgSbGSyRroaZdiV1AbndRUESvqbNAquIR+OJIye/e+4HLx3+4csvXr3eUa/96Ec/bukdrZXsaERCWgMiC2cNTb+6fajZ0fWOqRot7fXrlqVfS03OQs3PQr3ofFKQbXid90l4OkiYlmwdQdtBYshKMwfKeYcFzhvxs+C2J3sdwRMLFJKooow40siyYDNzDHn6c9pteTDKrnUAzYaVH2UhtiDshSeOHH0D+veNw0d0tdNqax3dMDu9brJjdLZAEpLaDaqRXhngnn92AzRW0uy21y/+s6YbP3n9oFggdlGK2i24Ows5aCa35y4wncxjwVNsAs8C7sLOfuwM8SbVPsdhQWDORP5waNblc8HTllMSYy3oy2aQNK/UGn6PahhPHPmu1bKsG4d3VF3VtS44STqwYLb651YO75xLDqgspJ4xzl88lNpeb4Oy0rraysWzWt98dfvAWKAeoC3yu7MgMF5SjFVBLguF3VgAnh13iXq24Mkogg+TsQCXkoi/VPI0E7S4Z6XAZcOmDfZNQ0QyAQs//BerZXRurq2ttN98X28bhtGxtKRpaqd3Dh/WOlaH+kjb5uVDqdcumd2Wqfd66vpPU69f0q8dIAtg5VwLPYYF3Ci2CNSqzH6XhSanhT0WYlOIcVTBUwUapCEeJmNBWI4TSYowXkQEsf6rIwtYI8mTaKSfvWGqemtja+fGzXNmu9s1k0m91ekY/Z3Da5rWUk/SqO3S1dQLqma0tZZp9HX1ynbqmfWXD8wuYFSwliAqegwLsmefo2wLYhYKQgFC2BJ7kzQRgERBhgi9yPns09gSAQ8Nzn2ekIUMPAUofpbWIRZirnUuCnsBrPMFvWWoACOp6yZwoGrtjtpfObOzdk5PJltbmIXtS8mNi+tgkJO6qVq9pPaDbYgd3jhIWWAs9BgWcPRH7arM7QYWQkzywgGJqTHiS35/MYuwOEBrTjGPNSELEKmE8uUlVhhFJHmboIpmBZeFvbJs1FM9p+mWBk1v6R3gAJzRZKdnDtbWNFU1jc4OZuFZVb118YqpJjFaVrJ9HbNw/UBZIHGVFI+NZ6Hm2Oc6ZwCoLISV6rAs5HDeKp8fUs8JkA8qD55QTcoCjtXjfFoCRb3nVBAxQcDC3jYBg0RtJ/sto6tbqqmbHbAKmma0BtbalqpbRutNbBdSP1c3Lm+/QklItsyWsXFt+1X11sH5SASOhR7HQsy2z+w5AmMXpkfbBdAhqCL4kKhReWCC80lZAGctznUDEA/v/RbyJCEjovjeNgGDxs4n+z2ImiEq1gyt1dG6g5WbN3dU481B7wzJI23rVv+ts3rSxCSommn1VPXVH6jtA2ZBKOImXhrLAs46Yfuc5dvUZUHexUcCJx8tCUOYQZKXLtwHCzJWSfwuyUk9QevTF4iwWmoc7AzGlpU0oZGtbrfbN7q9kzeAmeQNN5u3rXfOv2WBEwuWOwkB3QCUFc4nHTQLjoUex0KaZhl4q8rEC0u+kx1PFQdt3ANQhEMSk196GBYykuOORe0bNfOhPZKpNigLb/YHhpo0W1oX22nNwFntHfWkx8J60jgP9lsF0ww0GFavBZyot/ZhF7ITsRDLYwstj2OBpE8V0bfTY8F2HukGwwJ8dHtmhHmSDGJU0sOwgJXSclqUa6hIwjdlwS5FDH/bD8wCuKRrp9WWpVtmXycqp02zrFtrNgupdfCg1FYPIjYNZECz+lq/lVSv7oMFnFfjnsdT4AwLdh3CxwJfIilBUy2Xi/zlfXkkIUOdyDQTqk15GYwI42ISAh1WHo4FuHC2VFPsx40VYhiF4arcEICFX3xfe6mlJlXLtMAwEPvbw8WFtXPqlsPCJRUOGN22ZqlJHaLmdrtdf+HqfrJ5IrQH5754SU2WBay/wXv0WOCyeQQ4tSwhX6oYs8DGA0rWvrTHAkijE95G2KbG5zgEgrZrCBxwsnZEb5aHrPPD4IkjF16xzBYEbkbHeHfrgqVDCKe2BqTq+ZK+Y7PwDOgio9PXiJcEZrynbfwylUqZl1OTsiBIUa6bRTyNmeW0S5HVEL7MNgUQI/n9HdxYLDHLlGNwZbzQyim84TZkzlWQVwTkc7bkQv66iPP4Iad2cACAqO13qqW2dMt6+uZJ46VzT2vQ7VWL1J131HN2rS1lJV+42jJaRFLUttXGCdXUs+rLk7NQ41XSrBdp+uqBVa5BUTTk7/c5NiNkY1riFIds3wpuGnfNdc1tYxkxvksz7+b1Mm6VxwXuBSPSfiBA0vzw7gfEE0f+9e1bbwAHKzcO7yTB89FVAxwg7aUdLAzrA7fu/NbrP+loOmFB71uWluy8DhJyZXtiFoQqYjRNnWn5WV7kY3HmPFL98vdFNkBydoVYPS3nbUpARBgJBEapAy8jr6aUQPEp53Oal0P7wqNCL3B//FLzEABZOPq9MzduYK90C/SN1TFwJqmlYmW0ZnosHEq9QPIbSQust6ZZm1cup36b1J/DYzImY0GYR3FaJE8oU4y/lEM+iygjryVK2Aj41c8SKvr25EiOtBYGCxLDYymiNM9WILvdlBupW5foHdAy7QbhWTTr2p3luL/Ns+QKw+5mPDqidzww2DEYwIKqdbtY+Xe0pH7u5mn1XYaF8yRYID5Ux9C0i79Mvbau6q++88xXJmRBUKrOkJIl98Vn5unwFqacDG1KWcjUlunpjRnOTZF5nzdWqw8PWoEzjtnjaFDRUSlTZDjODLgygjKPquWZctWrzci1Cj29WrMvX6gt8KNvnOdzLlwfoaseBD4WdEPrqridu52OrqrdHY+FQwNdV+koDTAdxvpP8S7VhHMvTsoCHmFUa5aykb1Oi+zh3R3IyyfStVIpOyKQ+5+HjwXT0nqEhQtbxoXBuzuHGVm4pUGTd9rdHhjzvnb+N9uwqzdY1341qUYKsBsoCzu/Pn16be0lsMqtm+cIC721m/yosEOpdyBiU1sQWyfNdnf9je1UalszLl391aTWOcCuoCz87Dtaa+tMMmnq1s7htkpkorXFs3Ao9Ztep4W9WN0YvPjcxdfee++djRf34SMF2BWUhV9YnVYHjO/AAHN8+ByYZsPqnF7jWTiU6vc1U7Xand7GW6n39KS50X9r8nghwO6g9YWX26qJba9lkjzqGogFhMrn/Cw8o1pmsm1a3Y23XltP3jqvb+wjdg6wO6gsHHn7CkQIZrLXplpo7bSqGq0LPhYOnV03+0mIn62Nn/5W3fi3ywPrfKCRDgKUhaMLb//mVrttnNmxWYAw2kqe9rOQ+p3e0dSW2dm4/I6eNNa7EDUELBwAbE/15NEf/+LCDWeY9pZ1ElfUiCwcfT/6PCMMels3LV27tX0rqerf6QQsHAi80cJe3PCHN0zQ/5pJBOP3T0af+pZrGa61LMs0dW398vblq29dsTYCFg4C/rk8GGdauglmwoCI4capJ0Oh0KnFrzg8tEEYdN3sb1x77ewLLYvW/x9pFkQlm91jYPsu8M/neXCMYuHX1zRdu9oBd+lrmAM8aOeprzo0GPrABDtuaBsbmqb/+2RVnlI9PgUIxeNSdHa5xGQNakUJH5mK10kJSGxWG2QTzmxUi1nvPcXyPD6z4UtpKyHYGV0ieyPNWXKtRrWJWzW7gG8a8m6WruMrhKrMKA08Q6pSLE4jVIwIETsx0lygzyQt0exRc5nfdsAOCsNDM8nXGr7ajxzF36zPCOMwioV3d15+++k/3Di880ebBCwOf3LEoZfsayArHdNMqtcvTlpryyFJQkpYlMmMtgpTFovAEXZI0HJekuIZUYzUcO6NfacsPtNXCqvGJbbuNgWbeXf0Cb00k5PK5CW24BdbgBvQwwqeAuemp8idmNpdjWz7BEZBUd9L0vvx9dk6vM6okimHUSwcPvw0Nstfe/IbIQ+nXHF4A/zVvqa1dP36ryaveDaiTnUXj7Vlq5O4dMaktkV3Jgcuu3lzzkbMa6NlajYVneMLBHWcqWbz4lk05W2IKM9crc6wIOSjTHVIGF1lqA63bh6P5+CkFefW9x4OM5oFwM5/PBnicerPh+hsz+e/vQEx3nr/6/upOxfjbqK/hrj5U828/40dFgh1jBZAs1HfnDLczOxry3yxLIdHG7GD8sLMDEMRSVyFYIFhwV/nxBO2fLoQekvcX22rzkq+4QOlfIifzzcSu7Bw9JucINg0xJ+zE3vbz/3yxZ++7vivk82oQi4LBX5mWI2tDQu46V0WSohrdUTKNIxNLKCZPFdHLbiTcQgiaNpHkzedLRGX2L6Ai24eC0txbgId6UO+MQBl31RHjPlaKMoP+EFAw6iKKY9dWBgSBIqn/uwGcOx020lHhTnvhZ/fe1Q8Uol9zorkspDjR6Y00nhgHqPYm0U85I7RCzHEVeZkJEQlttrGTMKq5/2jxJpeX2j6DuLRMr6qCMIV6RK/b6EGjc6qrmNVdh7LrhjFwtH3vzEsCLY4SM+zzf8QLHiGwV/Mr3osKIhTqrNKhFFX+ELhLOKaJ8F/QURYcYSinvy4lIXhTEZqMGRPc+BZeKwxbg6xkI2Ghwds1Gd8ch5KK2iCyugoFn4/WhD84rA/FrIcC6yrM4aFHD/2qqIQS+F252yFI1egLDBqBo/gwwbbEyiXBdy7fT2ZKeHN7MlCo0YmVvFqCtztaXbMRgQJD8jCjahDQnQRw/m7GLXFwQvhHpAF3zC9MSzU41FW9QILNbaZ48oELFAF7nivLgvgBY1xILEssIPMhliQocNn+ZsJhAWF7WLztQdkwRaE6AmE/viXDz744C8I/fWD//wQPjyF0KIvhHswFqYQ1+q7syCjONdSwEKM0WZ4jucELAjTzFRC53oirxX92JOFep3czHeNYombGZ9BwgOxcOOPT+JufwL99cOPbhdiQiF8+29/u01Pvf3xtQ/IyIMTXgi3PxaIvVNCqMi5FruxEKshtMy9JF7mA+yzo6Sq2clYSIQ8C+2woAyP/2JRQrz/U/KxQGdkg5/Me6GYBex425JXXnogFiBQm7sHAvDGR3bLZ0RZkZnHuf3Re+99dH/1FC8OE7IgVaoVCaFGLc0lYIZZgJbEZ1ZzvqEYmAVsn2nzkSaehAUystW20O5qCnuyEOIG1oR4FmpE6cjus9jALGQ8bxoLyr5Z2PmvJxeP3/lEEAvhcJg2AGYh519baP3+8eipPx1K7VsWsmlAbgkP+WHcwFEsRNLKTDRvD0F3QZa8mXKm8BexSEzEAun51CNyWKhxLMSay1NVQGW2SFsMy0KEWV3JHz/E6QNPSXwTYxY8+5ydFvbNAg7UFu9uDj7HqzuJdJ0nwkKWZSGRSQiGvnk3eiruicN+5y+UIWr1/JFd7QKIQ5zrAYQFZ+g1ne48GQs4ZqQWejQLAu7XkhR3ndw97IKz6kCWd4wpC9DudPgx+cY+WcCB2qoxWPmSsJDBLBTSYWChRh8nTNY2iIVjsb6l31tkfdb9eqp8KLorCwW/S09YiNkx3wwJqidkwbXQDgu5IY1UYpdL2YOF5UaxjrHgG9dKWCDTXOBKaQlv7IeFo++TjMXcZnflFSEsFsSCHFHkYqwadlmAl1tIx+BIeKCZdxfZEG7fLOBEg+Rs7O4j4SZmrR9dhAtsIh60TiVrUhaEhkQygU5Dy0P5B4UNEcazUEAzNYLsvMTlwCgLdt6lmnUuOykLtn86d6fbvSVkcqVctgpdv54TQRZmyOOItYxQFsoxOSyu9NfvnogyIdy+WRCmmHTLCBackBQ79Ywlr9gTnXE3zlEpmZgFaqFjeae7o6gv5EqzDT8+amu6QWCEFynKArXPYbp/chZuSISExdXj9wkL6RmxWQbxrTcVYKFEnk3JKsBCHS/xt9LbuHdvcS7qhnD7zWBQC+Y82wjr7LwYNAablbEXpMMxa66SG3HZERkMF8RCVyWHhWLcNyWKY2F8BoNpVhAxJk1EWRDm8QINS03ntpOxAIIwd/z46vF7m5c2e5iFSDEtlBPHYmVBkW0WCoVYOrOkiBkwGitdo91p3W/Ad6IkhNs/C+zKOMd2ZyHGx0V2y5PR7Hnvskxg52OBWx+gSWZiOSeLfEbKx0JzHAs55qo1Ln1IC4bEPk/ZQpybjAUcqB2/s24ZeIUwo41ZkIuZBK3FYh+pySpIMNeZlW7PaJlWW+tsNhZxFW4SFma45mK1sj+nOsXM6lzKs6ltp9yJvFi4hPyZbTYJG+GmxM3n2SIRzqmyzaOwLJR9OdUldo5ho8jdkDlzwZYuvDKALcP+PjYSaQjUFu/dX7+zabVUs91v9zALGTtcGGIhBoaiACx8+qlBlm7bAGfp1FPf2nMoPLwXWzdJsxUS4IeLQNkaQoFdZk1w0m+4TewHLPLlGF+eM8dXKRvstKtEHLwApjpZY1nwzylciLMalD0CutWb4F+1PzELo834qicjgU1daPHu+v3rlraxeWezPWhD02cyu7BQEMOEhc/mVj+8s/np3QYx6mMSMuzTuno40ZAkz+rW+UUZC1ycCsLgelMZZzaajFzHpMIvTcmu6CngwIRTBhkUZeQxjJgAAYtg3ONsVhqST/c2fAG6xE2Xjjs3ctUU8Lf3YhgxshDEiXta/86nodXVu/12XyiEM84k3YIo2taZIJGxWbgbDZ2YmzsRpXnWMakAB3RuE+0fOYiKG95FSTXZazmyGEbRe76oKzblvMNOxeGdVA+YLDlZA+yY92XfZKw0Yo1IZooZh1BEaMEd8hHmsuH8bZbjnOTimqsT1Rxz05TzjryQ9t27fbAfDTSsrkKbhqJ3DQNYKGSEGF76cKZQzhTTwIKsCEsFQSRBNbELn0WZksPQvLMhiIq9yq9UreL8TNXtomKETmOaSpP+VHBWEC7Ldotk8VYlncBLH+H9aWxOjtE+LOfoydORMP2yPdMpS9ZfFnMSvpXCCmqJz2bjmy3kZDFSk1DTW45VkdjLwnbc3Y6QSWEQOJEjGXt+P2qkE7EIuXud3M+ewi0qNBtVSe8x4Al0rIvoic8wC7GaUEqnm2KplMmJ1QhoJLmEF0IMF9NyPSyDj9RrrJ7wvrZ3dVtR0i4iEfaJ0kqEIq3Q10rb2+5ALboVC9MjabrfHr7inpym75x2roVbNE23FK6sWfIPZylPN+JT803WsnmXjQxtK/YNaB+RvUOxgvOA5H70pmnncHqPZRgiiMZrx1cB9z40NCOWqUCbN3NCPSsquWYOZEEpkkUBi7FwGQK5Qbd7ffMenD63SBXS/4m5YY82GlEcr93paJubraTZ1rSMUo7UFoRcoSzWlFqkOJOJFNJKWckJCzElDcIw6PW0VrK3ubl5by4UGirfBngAgEOLXdXuptVRW/2+pd3OCcWaoijZsBBLZDJKyVGYBaXQLJTk222tb3RMTW21tO5caOQyEQH2C/DCFkPrm+CqdtqbhqbdBvXsNHyiUFBmvEwOSbbfNqz28bt3+lobPNXoBLY5wATAIcPi3c3N+5/eXT0OLHzCHizElJrnRYZFcFU/7lvt1egc2IUTi9HQ0CoVAR4MuOKxOIfd/9Bq39j4hD+qMNGLiFn4fKD15lwHae/wPMBkWEJOmwIL1hdkX+H2J1988cWXn99WlMTHX/7k0qWff3k7Fg4XxAywsOmygA5ukaD/9yg6NKxuGknri08++ULb6GgGoLfSu7IyaGuWpRmDld99dPvjzy8ZfZeFgISDRA1FbVno6NZgAL5oW8OLelrt7qDb7vU1zdCsDhjklZWBpRs2C9G9x8EG2A8iKE+LbabVa/e63a6x0ccRwaDf6/aM3p37dzaBijbANDtJykI+PkEuNcB+kKjjsf6hudAdrd/vG5sf3p1bBYs9dx9E4h75tPrZh5ugozStf28VB2sTrKX+937mCRYGfNQQmcU8RHHj49wezU6E5j67F1p0xq1i9xT+X8QcVPaRt0jXsi5yaTa9lp2hh2ozNAlfaNbwjlpJFuRaNocBm8dyI+f/lfl+IDfLTYJy81HOqShTRB54RBejQ/skNLu/gDlMs53FchnP5ENLXisVaFZy2QkNEwreJDFK7BgZFVevL5BEZnOo5yN/ylhEKJ9Hj3wEk55G+eFG99GSR9N7L6PuR8kr5MvQ8PPeKJRQlJ8HIHs/lFBy1wjMouhQ6ypoKFjJjVpm7xFEuIxQfAwHceiUE5TWhiCzS1+mEfMbUWV/Narh1uFkb2ALXhqYq9bjYQL+JWjpz3iN+rXIRw+4dDGsmWwKFh4wdxfmBrXI/GqzfGW27iqaGDO8qCr5piaF0Yik+vhBwI8WErn5YSIk0CO58b9HOQYFfmgRM9lwaHnUspcfZFiYQfxUUDI7ZGhl2ceJBUAsW0XIMxGglavZh3EMYzwLzHxaxc9Ck/0VO5eFrO8CAsqxv0boXTYkPFbIlOK2QEhImnlIbetnoRh3Rjmk/eOmRrNQ8w1byiEyK9lnn4cXyn4MkJva5Se19g0/C4o7YHhCFvAQIXb2yewMmUPms8+PJQt0VNNBZIv8LHi2dTIWCuCqssZZxJTEo377/Jiy4BuK9sDws+ANc5yIhcIsinNBShEPJGvm/UOuHlcWJvi5sUkwxELUWfBjDxaqohzJ1dGCL1AkHlZ4yD4/tiwcDIZYmHUGeI5nIRRqNBpTeYQaC+xJ9LeWSRDB2eeAhbEYYqEi2cNT95AFmsFIKBWE8p48NKitUvyTrgIWxmIkC2THhD6SUAT77JwnI1kk8E+BDVgYiyEW3GHQk7JA1sBwfgeemYjsDwYDFnbHSB+JNP4QC6VdWJhxf2Ap4fqnIj9UPmBhPPwsxNzsZ2Qog+EtwcWxoLhbNXeCKPndHHYVqoCFcfCzEHGbNOz/DbG6dx7HQtqdQ5b34shjvH1+/PJIB4qC76e1mPl6/p97inptzLGQc9ZvU9hUBm+fh1eOCsCg4M+pRt3RA/U4p9rZH1PjZlAuOcm7WXZVIjwha4H5wmOV2T5oiPyKdvW895NpIl85qLC/Vs00asyptilcUSjHzsZlFmQJMAJprjK2hFDRO8ZlDOtMxVJhvhSrSBL5nIhzIwLxNBh3MUiFmxMawIdENR6NSqgmxvDctTya5gaU1RCIRi6cSISPcUlS8qWGEs6I6TKeo4a7fKyS55aTnc/jBX1tXmZhIx8M5R+NY9OIpIOmcOU6Xqln/SWjTNmJwppuci7SnEJxQJ7O35ung4yys3gho9l5yoNYnK1UycpG07IgN6en5wHT04/0eKT/Vci5B137PUCAAAECBAgQIECAAAECBAgQIECAAAECBAjwd8Z/A5AkPlDKHduKAAAAAElFTkSuQmCC\"\n",
        "     alt=\"Software Workshop - I Notes\"\n",
        "     style=\"float:right; width:15px; height:10px; border-radius:8px; margin:8px;\"/>\n",
        "\n",
        "<div style=\"clear: both;\"></div>\n"
      ],
      "metadata": {
        "id": "fUWYoD7Fg_pj"
      }
    },
    {
      "cell_type": "markdown",
      "source": [
        "# **Software Workshop - I**\n",
        "> Study Notes by **Mohamed Irfan**\n"
      ],
      "metadata": {
        "id": "Po1wLbGtgq-2"
      }
    },
    {
      "cell_type": "markdown",
      "source": [
        "\n",
        "## 🔠 **Python: Compilers, Interpreters, and Development Tools**\n",
        "\n",
        "---\n",
        "\n",
        "### 🧩 Compilers vs Interpreters\n",
        "\n",
        "| Feature               | **Compiler**                                               | **Interpreter**                                |\n",
        "| --------------------- | ---------------------------------------------------------- | ---------------------------------------------- |\n",
        "| **Process**           | Translates the **entire program** into object code at once | Translates and executes **one line at a time** |\n",
        "| **Execution**         | Runs **after translation**                                 | Runs **while translating**                     |\n",
        "| **Speed**             | Generally **faster** (since already compiled)              | **Slower** (executes line by line)             |\n",
        "| **Error Handling**    | Shows **all errors at once**                               | Stops at the **first error**                   |\n",
        "| **Example Languages** | C, C++                                                     | Python, JavaScript, Ruby                       |\n",
        "\n",
        "---\n",
        "\n",
        "### ⚙️ Is Python Interpreted or Compiled?\n",
        "\n",
        "**Short answer:** Yes, Python is *interpreted*, but it also includes a **compilation step**.\n",
        "\n",
        "### How it works:\n",
        "\n",
        "* **Compilation to Bytecode**: When you run a Python program, the Python interpreter first compiles the source code (the .py file) into an intermediate format called bytecode (resulting in .pyc files, though these are often hidden from the user). This compilation step is performed by the Python bytecode compiler, which is part of the interpreter.\n",
        "\n",
        "* **Interpretation of Bytecode**: The generated bytecode is then **interpreted** by the by the Python Virtual Machine (PVM). The PVM acts as an interpreter, reading and executing the bytecode instructions. It translates these instructions into machine-specific code that the underlying operating system and hardware can understand and execute.\n",
        "\n",
        "* The process allows **cross-platform compatibility** — same code can run on any OS.\n",
        "\n",
        "```bash\n",
        "\n",
        " Source code (.py)\n",
        "    ↓ (compiled by CPython)\n",
        " Bytecode (.pyc) — stored in __pycache__ folder\n",
        "    ↓ (executed by PVM)\n",
        " Machine code (runs on your CPU)\n",
        "\n",
        " ```\n",
        "\n",
        "### 🔧 Python Interpreter Types:\n",
        "\n",
        "* **CPython** → Default interpreter written in C.\n",
        "* **PyPy** → Uses a **Just-In-Time (JIT)** compiler for faster performance.\n",
        "\n",
        "---\n",
        "\n",
        "### 💻 Python Interpreter Usage\n",
        "\n",
        "* Usually installed as:\n",
        "\n",
        "  ```bash\n",
        "  /usr/local/bin/python3.13\n",
        "  ```\n",
        "* To start the interpreter, Run from terminal:\n",
        "\n",
        "  ```bash\n",
        "  python3.13\n",
        "  ```\n",
        "* You’ll see:\n",
        "\n",
        "  ```python\n",
        "  >>> aNum = 10\n",
        "  ```\n",
        "\n",
        "  You can type and execute statements one by one in this interactive shell.\n",
        "\n"
      ],
      "metadata": {
        "id": "FBltApTom6v0"
      }
    },
    {
      "cell_type": "markdown",
      "source": [
        "### **High-level and low-level languages**\n",
        "*   High-level languages are more human-readable and hardware-independent\n",
        "*   High-level languages like Python require a compiler or interpreter to translate code, but are easier to write and debug.\n",
        "*   Low-level languages are closer to machine code, faster, and specific to a particular architecture.\n",
        "*   Low-level languages like assembly language have direct hardware control but are difficult for humans to read and write.  "
      ],
      "metadata": {
        "id": "AxWVyUSnWQKm"
      }
    },
    {
      "cell_type": "markdown",
      "source": [
        "\n",
        "## 🔠 **Python Source Encoding: UTF-8 & Unicode**\n",
        "---\n",
        "\n",
        "🧩 **1. Why Encoding Is Needed**\n",
        "\n",
        "Computers don’t understand letters or symbols directly — they only understand **numbers (binary 0s and 1s)**.\n",
        "So, every letter, digit, or emoji must be **converted into numbers** before a computer can process or store it.\n",
        "👉 This conversion is done through **encoding**.\n",
        "\n",
        "Example:\n",
        "\n",
        "| Character | Computer Representation |\n",
        "| --------- | ----------------------- |\n",
        "| A         | 65                      |\n",
        "| B         | 66                      |\n",
        "| a         | 97                      |\n",
        "\n",
        "---\n",
        "\n",
        "🔠 **2. What Is Unicode?**\n",
        "\n",
        "* **Unicode** is a **universal character set** — a giant table that assigns a **unique number (code point)** to **every character** in every language.\n",
        "* It includes letters, numbers, emojis, and symbols from all writing systems.\n",
        "\n",
        "Example:\n",
        "\n",
        "| Character | Unicode Code Point |\n",
        "| --------- | ------------------ |\n",
        "| A         | U+0041             |\n",
        "| π         | U+03C0             |\n",
        "| 😊        | U+1F60A            |\n",
        "| ض         | U+0636             |\n",
        "\n",
        "Think of **Unicode** as a *dictionary* mapping each symbol to a unique number.\n",
        "\n",
        "---\n",
        "\n",
        "💾 **3. What Is UTF-8?**\n",
        "\n",
        "* **UTF-8** stands for **Unicode Transformation Format - 8-bit**.\n",
        "* It is an **encoding standard** — a rule that describes *how* to store or transmit the Unicode numbers as bytes (0s and 1s).\n",
        "* It uses **1 to 4 bytes per character**, depending on the character’s complexity.\n",
        "\n",
        "### Example:\n",
        "\n",
        "| Character | Unicode | UTF-8 Bytes (in Hex) |\n",
        "| --------- | ------- | -------------------- |\n",
        "| A         | U+0041  | 41                   |\n",
        "| €         | U+20AC  | E2 82 AC             |\n",
        "| 😊        | U+1F60A | F0 9F 98 8A          |\n",
        "\n",
        "So:\n",
        "\n",
        "* **Unicode** = a list of characters with their numbers\n",
        "* **UTF-8** = a method to store those numbers in memory\n",
        "\n",
        "---\n",
        "\n",
        "⚙️ **4. Relation Between ASCII, Unicode, and UTF-8**\n",
        "\n",
        "| Feature             | ASCII                         | Unicode                                | UTF-8                          |\n",
        "| ------------------- | ----------------------------- | -------------------------------------- | ------------------------------ |\n",
        "| **Purpose**         | Early character set           | Global character set                   | Encoding for Unicode           |\n",
        "| **Character Range** | 128 characters (English only) | Millions of characters (all languages) | Encodes Unicode into bytes     |\n",
        "| **Compatibility**   | Basic English                 | All languages                          | Backward compatible with ASCII |\n",
        "\n",
        "✅ **UTF-8 is backward compatible** with ASCII —\n",
        "All ASCII characters have the same byte values in UTF-8.\n",
        "\n",
        "---\n",
        "\n",
        "🐍 **5. Python and UTF-8**\n",
        "\n",
        "* Python source files are **encoded in UTF-8 by default**.\n",
        "* This allows you to use **any language, emoji, or special symbol** in strings, variable names, and comments.\n",
        "\n",
        "Example:\n",
        "\n",
        "```python\n",
        "# -*- coding: utf-8 -*-\n",
        "greeting = \"こんにちは 🌸\"   # Japanese + emoji\n",
        "print(greeting)\n",
        "```\n",
        "\n",
        "Output:\n",
        "\n",
        "```\n",
        "こんにちは 🌸\n",
        "```\n",
        "\n",
        "---\n",
        "\n",
        "🧾 **Summary**\n",
        "\n",
        "| Concept            | Description                                                |\n",
        "| ------------------ | ---------------------------------------------------------- |\n",
        "| **Unicode**        | Character set assigning unique numbers to characters       |\n",
        "| **UTF-8**          | Encoding standard that converts Unicode numbers into bytes |\n",
        "| **ASCII**          | Small subset of Unicode for English text                   |\n",
        "| **Python Default** | UTF-8 encoding (universal, supports all languages)         |\n"
      ],
      "metadata": {
        "id": "ErUmVBusyF0i"
      }
    },
    {
      "cell_type": "markdown",
      "source": [
        "\n",
        "\n",
        "## 🐞 **Debugging Tools**\n",
        "\n",
        "**Debugging** is the process of finding and fixing errors in your code.\n",
        "\n",
        "### 🧾 Types of Errors:\n",
        "\n",
        "| Error Type         | Description                          | Example                          |\n",
        "| ------------------ | ------------------------------------ | -------------------------------- |\n",
        "| **Syntax Error**   | Mistakes in code structure           | Missing `:` or wrong indentation |\n",
        "| **Runtime Error**  | Error occurs during execution        | Division by zero                 |\n",
        "| **Semantic Error** | Logic is wrong even though code runs | Wrong formula or condition       |\n",
        "\n",
        "\n",
        "\n",
        "\n",
        "## **🧰 IDE (Integrated Development Environment)**\n",
        "\n",
        "**IDE** = A software that provides tools to **write, execute, and debug** Python programs efficiently.\n",
        "\n",
        "### 🧱 Features:\n",
        "\n",
        "* Code editor\n",
        "* Debugger\n",
        "* Output console\n",
        "* Package management\n",
        "\n",
        "### 💡 Examples:\n",
        "\n",
        "* **PyCharm**\n",
        "* **VS Code**\n",
        "* **Jupyter Notebook**\n"
      ],
      "metadata": {
        "id": "FZ8hiiAhzE7h"
      }
    },
    {
      "cell_type": "markdown",
      "source": [
        "\n",
        "## **Syntax, Semantics & Literals**\n",
        "\n",
        "---\n",
        "\n",
        "### 1️⃣ **Syntax vs Semantics**\n",
        "\n",
        "* **Syntax:** Grammar rules of Python.\n",
        "\n",
        "  ```python\n",
        "  print(f'The number is {num} for now!!')\n",
        "  ```\n",
        "* **Semantics:** Meaning or logic of statements.\n",
        "\n",
        "  * Example: “Is the color blue?” — valid syntax but logic depends on context.\n",
        "* **Keywords / Reserved Words:** `def`, `for`, `while`, `if`, `elif`, `return`, `try`\n",
        "\n",
        "---\n",
        "\n",
        "### 2️⃣ **Math Operators & Order of Operations (PEMDAS)**\n",
        "\n",
        "* **Order:** Parentheses → Exponents → Multiplication/Division → Addition/Subtraction\n",
        "\n",
        "  * MD & AS are evaluated **left to right**\n",
        "\n",
        "```python\n",
        "5 + 3 * 10    # 35\n",
        "(5 + 3) * 10  # 80\n",
        "```\n",
        "\n",
        "### Examples:\n",
        "\n",
        "* **Exponents:**\n",
        "\n",
        "```python\n",
        "2**2   # 4\n",
        "10**3  # 1000\n",
        "```\n",
        "\n",
        "* **Multiplication / Division:**\n",
        "\n",
        "```python\n",
        "2 * 2       # 4\n",
        "10 * 3      # 30\n",
        "20 / 2      # 10.0\n",
        "100 / 3     # 33.3333...\n",
        "100 // 3    # 33 (floor division)\n",
        "```\n",
        "\n",
        "* **Modulo (%):** Remainder of division\n",
        "\n",
        "```python\n",
        "29 % 3  # 2\n",
        "29 % 10 # 9\n",
        "```\n",
        "\n",
        "> Useful to check odd/even numbers.\n"
      ],
      "metadata": {
        "id": "B9dRvn3r4J5x"
      }
    },
    {
      "cell_type": "markdown",
      "source": [
        "\n",
        "## 3️⃣ **Literals in Python**\n",
        "\n",
        "In Python, a literal is a notation that represents a fixed, raw value directly within your code. These are explicit values that are assigned to variables or used directly in expressions without requiring any computation or external reference. They are the building blocks for representing data within your program\n",
        "\n",
        "Convention for naming **Constant literal values**: ALL_CAPS_WITH_UNDERSCORES (e.g., MAX_VALUE, PI, DEFAULT_TIMEOUT).\n",
        "\n",
        "### **Numeric Literals**\n",
        "\n",
        "```python\n",
        "a_number = 5\n",
        "in_binary = 0b10100\n",
        "floating_point_number = 8.945\n",
        "complex_number = 10 + 5j\n",
        "another_complex = 10j\n",
        "```\n",
        "\n",
        "### **Character Literals**\n",
        "\n",
        "```python\n",
        "a_char = 'j'\n",
        "another_char = \"k\"\n",
        "yet_another = 'P'\n",
        "```\n",
        "\n",
        "### **String Literals**\n",
        "\n",
        "```python\n",
        "a_sent = 'let us learn Python'\n",
        "another_sent = \"let us learn Python\"\n",
        "and_another = '''let us\n",
        "learn\n",
        "Python'''\n",
        "using_lets = \"let\\'s learn Python\"\n",
        "```\n",
        "\n",
        "### **Boolean Literals**\n",
        "\n",
        "```python\n",
        "a = (1 == True)   # True\n",
        "b = (1 == False)  # False\n",
        "ans = a + 4       # 5\n",
        "ans2 = b + 10     # 10\n",
        "```\n",
        "\n",
        "### **Literal Collections**\n",
        "\n",
        "```python\n",
        "# List\n",
        "the_list = [5, 7, \"Jane\", 'Waseem']\n",
        "\n",
        "# Tuple\n",
        "even_numbers = (2, 4, 6, 9, 10)\n",
        "odd_numbers = (1, 3, 5, 7, 9)\n",
        "\n",
        "# Dictionary\n",
        "student_modules = {'12345':'software workshop 1', '54321':\"data algorithms\"}\n",
        "```\n",
        "\n",
        "### **Special Literal**\n",
        "\n",
        "* **None:** Represents absence of value (not False, 0, or empty string/list)\n",
        "\n",
        "```python\n",
        "special_none = None\n",
        "print(special_none)  # Output: None\n",
        "```\n",
        "\n",
        "> Useful for optional function parameters or checking empty fields in web apps.\n"
      ],
      "metadata": {
        "id": "nIxvQYuR4bqX"
      }
    },
    {
      "cell_type": "code",
      "source": [
        "def is_weekend(day):\n",
        "    match day:\n",
        "        case \"Saturday\" | \"Sunday\":\n",
        "            return True\n",
        "        case \"Monday\" | \"Tuesday\" | \"Wednesday\" | \"Thursday\" | \"Friday\":\n",
        "            return False\n",
        "        case _:\n",
        "            return False\n",
        "\n",
        "day = input(\"Enter day of the week: \")\n",
        "print(is_weekend(day))"
      ],
      "metadata": {
        "colab": {
          "base_uri": "https://localhost:8080/"
        },
        "id": "XCtCu5zH4bTD",
        "outputId": "5a3bfed4-a732-4628-f77c-4ae1e1b2c202"
      },
      "execution_count": 2,
      "outputs": [
        {
          "output_type": "stream",
          "name": "stdout",
          "text": [
            "Enter day of the week: Wednesday\n",
            "False\n"
          ]
        }
      ]
    },
    {
      "cell_type": "markdown",
      "source": [
        "\n",
        "## Data Types, Variables & Operators\n",
        "\n",
        "\n",
        "### 1️⃣ **Data Types**\n",
        "\n",
        "| Type           | Description          | Example            |\n",
        "| -------------- | -------------------- | ------------------ |\n",
        "| **String**     | Text                 | `\"Hello\"`          |\n",
        "| **Integer**    | Whole numbers        | `42`               |\n",
        "| **Float**      | Decimal numbers      | `3.14159`          |\n",
        "| **Boolean**    | `True` / `False`     | `1==1` → `True`    |\n",
        "| **Complex**    | Complex numbers      | `10 + 5j`          |\n",
        "| **List**       | Ordered collection   | `[1, 'a', True]`   |\n",
        "| **Tuple**      | Immutable collection | `(1, 2, 3)`        |\n",
        "| **Dictionary** | Key-value pairs      | `{'name':'Alice'}` |\n",
        "\n",
        "* **Check type:** `type(variable)`\n",
        "\n",
        "---\n",
        "\n",
        "### 2️⃣ **Strings**\n",
        "\n",
        "* Concatenation: `+`\n",
        "\n",
        "  ```python\n",
        "  \"Hello\" + \" \" + \"World\"  # \"Hello World\"\n",
        "  ```\n",
        "* Repeat: `*`\n",
        "\n",
        "  ```python\n",
        "  \"Apple\" * 3  # \"AppleAppleApple\"\n",
        "  ```\n",
        "* **Appending / formatting**:\n",
        "\n",
        "  * `+=` → add to existing string\n",
        "  * `.join()` → join elements\n",
        "  * **f-strings:** `f\"My number is {num}\"`\n",
        "  * `%` formatting: `\"num1=%d\" % num1`\n",
        "  * `.format()`: `\"Value is {}\".format(num1)`\n",
        "\n",
        "---\n",
        "\n",
        "### 3️⃣ **Variables & Constants**\n",
        "\n",
        "* **Variables:** Named memory location, changeable\n",
        "\n",
        "  ```python\n",
        "  my_num = 777\n",
        "  my_num += 10\n",
        "  ```\n",
        "\n",
        "* **Constants:** Fixed value, usually uppercase\n",
        "\n",
        "  ```python\n",
        "  DAYS_IN_JANUARY = 31\n",
        "  ```\n",
        "\n",
        "* **Rules for variable names:**\n",
        "\n",
        "  * Start with letter or `_`, cannot start with number\n",
        "  * Alphanumeric + underscores only\n",
        "  * Case-sensitive\n",
        "  * Cannot use reserved keywords\n",
        "\n",
        "* **Swapping values:**\n",
        "\n",
        "```python\n",
        "a, b = b, a  # Pythonic swap\n",
        "```\n",
        "\n",
        "---\n",
        "\n",
        "### 4️⃣ **Built-in Functions**\n",
        "\n",
        "* `print()`, `input()`, `len()`\n",
        "\n",
        "```python\n",
        "answer = input(\"Type something: \")\n",
        "print(answer)\n",
        "print(len(answer))\n",
        "```\n",
        "\n",
        "---\n",
        "\n",
        "### 5️⃣ **Type Conversion**\n",
        "\n",
        "* Convert between types: `str()`, `int()`, `float()`\n",
        "\n",
        "```python\n",
        "num = input(\"Enter number: \")  # always string\n",
        "num = int(num) * 2\n",
        "```\n",
        "\n",
        "---\n",
        "\n",
        "### 6️⃣ **Boolean Operators**\n",
        "\n",
        "| Operator | Logic                 |\n",
        "| -------- | --------------------- |\n",
        "| `and`    | True if **both** True |\n",
        "| `or`     | True if **any** True  |\n",
        "| `not`    | Reverses value        |\n",
        "\n",
        "### Boolean Comparisons\n",
        "\n",
        "```python\n",
        "10 > 5       # True\n",
        "10 < 5       # False\n",
        "10*2 == 100  # False\n",
        "10*2 != 100  # True\n",
        "```\n",
        "\n",
        "* Use comparisons to control program flow, loops, and conditions.\n"
      ],
      "metadata": {
        "id": "cKvH5UJPKYUV"
      }
    },
    {
      "cell_type": "markdown",
      "metadata": {
        "id": "72a61a64"
      },
      "source": [
        "### **String Basics and Concatenation Examples**\n",
        "\n",
        "Some basic examples of string operations and different ways to concatenate strings in Python:\n",
        "\n"
      ]
    },
    {
      "cell_type": "code",
      "metadata": {
        "colab": {
          "base_uri": "https://localhost:8080/"
        },
        "id": "5725a9e8",
        "outputId": "bd037a66-7866-4540-90ae-7bf4abe9e9ff"
      },
      "source": [
        "  height = '6 feet 2 inches'\n",
        "  weight = '180 pounds'\n",
        "  print(height + weight)\n",
        "  print(\"He is \" + height + \" and \" + weight + \".\")"
      ],
      "execution_count": 21,
      "outputs": [
        {
          "output_type": "stream",
          "name": "stdout",
          "text": [
            "6 feet 2 inches180 pounds\n",
            "He is 6 feet 2 inches and 180 pounds.\n"
          ]
        }
      ]
    },
    {
      "cell_type": "code",
      "metadata": {
        "colab": {
          "base_uri": "https://localhost:8080/"
        },
        "id": "86b6a2ed",
        "outputId": "6a22877e-ca36-46a6-ad06-b8cc694ada06"
      },
      "source": [
        "    print(height, weight)"
      ],
      "execution_count": 22,
      "outputs": [
        {
          "output_type": "stream",
          "name": "stdout",
          "text": [
            "6 feet 2 inches 180 pounds\n"
          ]
        }
      ]
    },
    {
      "cell_type": "code",
      "metadata": {
        "colab": {
          "base_uri": "https://localhost:8080/"
        },
        "id": "9e4c1ff9",
        "outputId": "7c7c4ec5-0285-4a9d-ce68-f3c29623c2a0"
      },
      "source": [
        "    print(\"Apple\" * 5)\n",
        "    # Note: Cannot multiply a string by a float (e.g., \"Apple\" * 5.0 would cause a TypeError)"
      ],
      "execution_count": 23,
      "outputs": [
        {
          "output_type": "stream",
          "name": "stdout",
          "text": [
            "AppleAppleAppleAppleApple\n"
          ]
        }
      ]
    },
    {
      "cell_type": "code",
      "metadata": {
        "colab": {
          "base_uri": "https://localhost:8080/"
        },
        "id": "5a0c1f4c",
        "outputId": "075a89c9-34ca-43fb-fb2b-e0c939c57b18"
      },
      "source": [
        "        print(\"hello\" + \"\\n\" + \"world\")"
      ],
      "execution_count": 24,
      "outputs": [
        {
          "output_type": "stream",
          "name": "stdout",
          "text": [
            "hello\n",
            "world\n"
          ]
        }
      ]
    },
    {
      "cell_type": "code",
      "metadata": {
        "colab": {
          "base_uri": "https://localhost:8080/"
        },
        "id": "6378f3c9",
        "outputId": "69e1f275-6e8c-400b-d268-591012cc066c"
      },
      "source": [
        "        mess = \"my name is \"\n",
        "        mess += \"Douglas\"\n",
        "        print(mess)"
      ],
      "execution_count": 25,
      "outputs": [
        {
          "output_type": "stream",
          "name": "stdout",
          "text": [
            "my name is Douglas\n"
          ]
        }
      ]
    },
    {
      "cell_type": "code",
      "metadata": {
        "colab": {
          "base_uri": "https://localhost:8080/"
        },
        "id": "5447b54c",
        "outputId": "1c567e34-4bfa-4405-ea30-c34b2db477ca"
      },
      "source": [
        "        # .join() is called on the separator string, used with an iterable\n",
        "        another_mess = \" \".join([\"what\", \"is\", \"your\", \"name\",\"?\"])\n",
        "        print(another_mess)"
      ],
      "execution_count": 27,
      "outputs": [
        {
          "output_type": "stream",
          "name": "stdout",
          "text": [
            "what is your name ?\n"
          ]
        }
      ]
    },
    {
      "cell_type": "code",
      "metadata": {
        "colab": {
          "base_uri": "https://localhost:8080/"
        },
        "id": "23d2c557",
        "outputId": "e68a33de-44b5-496b-d15e-4564e3ec167a"
      },
      "source": [
        "        # Use curly braces {} for replacement fields\n",
        "        another_mess = \"some message\"\n",
        "        print(f\"The message is {another_mess}\")"
      ],
      "execution_count": 16,
      "outputs": [
        {
          "output_type": "stream",
          "name": "stdout",
          "text": [
            "The message is some message\n"
          ]
        }
      ]
    },
    {
      "cell_type": "code",
      "metadata": {
        "colab": {
          "base_uri": "https://localhost:8080/"
        },
        "id": "34669547",
        "outputId": "121aabb8-e58d-4fba-a93f-9346a6b681e9"
      },
      "source": [
        "        num1 = 10\n",
        "        num2 = 20\n",
        "        print(\"num1 is %d and num2 is %d\" %(num1, num2))"
      ],
      "execution_count": 17,
      "outputs": [
        {
          "output_type": "stream",
          "name": "stdout",
          "text": [
            "num1 is 10 and num2 is 20\n"
          ]
        }
      ]
    },
    {
      "cell_type": "code",
      "metadata": {
        "colab": {
          "base_uri": "https://localhost:8080/"
        },
        "id": "7ee3237f",
        "outputId": "78051d91-b437-42a2-93b5-a91b1672f1cb"
      },
      "source": [
        "        # Positional arguments\n",
        "        print('The value of num1 is {} and the value of num2 is {}'.format(num1, num2))\n",
        "        print('{1} Irfan! {0} {2}!!'.format(\"How are you?\", \"Hi\", \"Bye\"))\n",
        "        # Keyword arguments\n",
        "        print('{a} {b} {c}'.format(a = 1, b = 2, c = 3))"
      ],
      "execution_count": 33,
      "outputs": [
        {
          "output_type": "stream",
          "name": "stdout",
          "text": [
            "The value of num1 is 10 and the value of num2 is 20\n",
            "Hi Irfan! How are you? Bye!!\n",
            "1 2 3\n"
          ]
        }
      ]
    },
    {
      "cell_type": "markdown",
      "source": [
        "\n",
        "##  **Boolean Operations in Python**\n",
        "\n",
        "---\n",
        "\n",
        "### 1️⃣ **Boolean Values**\n",
        "\n",
        "* Python has **two Boolean values**:\n",
        "\n",
        "  ```python\n",
        "  True\n",
        "  False\n",
        "  ```\n",
        "* Case-sensitive (must start with uppercase `T` or `F`)\n",
        "* Booleans are a subtype of integers: `True == 1`, `False == 0`\n",
        "\n",
        "---\n",
        "\n",
        "### 2️⃣ **Boolean Operators**\n",
        "\n",
        "| Operator | Symbol | Description                                    |\n",
        "| -------- | ------ | ---------------------------------------------- |\n",
        "| **AND**  | `and`  | Returns `True` if **both** operands are `True` |\n",
        "| **OR**   | `or`   | Returns `True` if **any** operand is `True`    |\n",
        "| **NOT**  | `not`  | Reverses the Boolean value                     |\n",
        "\n",
        "### Examples:\n",
        "\n",
        "```python\n",
        "# AND operator\n",
        "True and True   # True\n",
        "True and False  # False\n",
        "False and True  # False\n",
        "False and False # False\n",
        "\n",
        "# OR operator\n",
        "True or True    # True\n",
        "True or False   # True\n",
        "False or True   # True\n",
        "False or False  # False\n",
        "\n",
        "# NOT operator\n",
        "not True   # False\n",
        "not False  # True\n",
        "```\n",
        "\n",
        "---\n",
        "\n",
        "### 3️⃣ **Comparison Operators** (Return Boolean)\n",
        "\n",
        "| Operator | Meaning                  |\n",
        "| -------- | ------------------------ |\n",
        "| `==`     | Equal to                 |\n",
        "| `!=`     | Not equal to             |\n",
        "| `>`      | Greater than             |\n",
        "| `<`      | Less than                |\n",
        "| `>=`     | Greater than or equal to |\n",
        "| `<=`     | Less than or equal to    |\n",
        "\n",
        "### Examples:\n",
        "\n",
        "```python\n",
        "10 > 5      # True\n",
        "10 < 5      # False\n",
        "10 == 10    # True\n",
        "10 != 5     # True\n",
        "10 >= 10    # True\n",
        "10 <= 5     # False\n",
        "```\n",
        "\n",
        "---\n",
        "\n",
        "### 4️⃣ **Boolean Expressions**\n",
        "\n",
        "* Combine comparison and logical operators:\n",
        "\n",
        "```python\n",
        "x = 10\n",
        "y = 20\n",
        "\n",
        "(x > 5) and (y < 30)   # True\n",
        "(x < 5) or (y > 15)    # True\n",
        "not (x == 10)          # False\n",
        "```\n",
        "\n",
        "---\n",
        "\n",
        "### 5️⃣ **Short-Circuit Evaluation**\n",
        "\n",
        "* Python **stops evaluating** when the result is already determined:\n",
        "\n",
        "```python\n",
        "# AND: stops if first operand is False\n",
        "False and some_function()  # some_function() not called\n",
        "\n",
        "# OR: stops if first operand is True\n",
        "True or some_function()    # some_function() not called\n",
        "```\n",
        "\n",
        "---\n",
        "\n",
        "### 6️⃣ **Boolean with Numbers**\n",
        "\n",
        "* `0` → False\n",
        "* Any **non-zero number** → True\n",
        "\n",
        "```python\n",
        "bool(0)     # False\n",
        "bool(42)    # True\n",
        "bool(-1)    # True\n",
        "```\n",
        "\n",
        "---\n",
        "\n",
        "### **Comparison Operators** (Return Boolean)\n",
        "\n",
        "| Operator | Description           | Example    | Result |\n",
        "| -------- | --------------------- | ---------- | ------ |\n",
        "| `==`     | Equal to              | `5 == 5`   | True   |\n",
        "| `!=`     | Not equal             | `5 != 3`   | True   |\n",
        "| `>`      | Greater than          | `10 > 5`   | True   |\n",
        "| `<`      | Less than             | `2 < 1`    | False  |\n",
        "| `>=`     | Greater than or equal | `10 >= 10` | True   |\n",
        "| `<=`     | Less than or equal    | `7 <= 5`   | False  |\n",
        "\n",
        "---\n",
        "\n",
        "### 🔢 **Boolean with Numbers**\n",
        "\n",
        "* `0` → False\n",
        "* Any non-zero number → True\n",
        "\n",
        "```python\n",
        "bool(0)     # False\n",
        "bool(42)    # True\n",
        "bool(-1)    # True\n",
        "```\n"
      ],
      "metadata": {
        "id": "FgqQCusiPkPI"
      }
    },
    {
      "cell_type": "markdown",
      "source": [
        "\n",
        "## 🐍 **Python PEP 8 & Documentation**\n",
        "\n",
        "---\n",
        "\n",
        "### 1️⃣ **PEP 8**\n",
        "\n",
        "* **PEP 8** → Python **code style guide**\n",
        "* Official link: [PEP 8](https://peps.python.org/pep-0008/)\n",
        "* **Purpose:**\n",
        "\n",
        "  * Makes code **consistent** across projects\n",
        "  * Improves **readability** for others\n",
        "  * Standardizes naming, layout, and whitespace\n",
        "\n",
        "### Key Guidelines\n",
        "\n",
        "* **Indentation:** 4 spaces per level\n",
        "* **Line length:** Max 79 characters\n",
        "* **Blank lines:** Use to separate functions/classes\n",
        "* **Imports:** One per line, at top of file\n",
        "\n",
        "---\n",
        "\n",
        "### 2️⃣ **Naming Conventions**\n",
        "\n",
        "| Style          | Usage                | Example                        |\n",
        "| -------------- | -------------------- | ------------------------------ |\n",
        "| **snake_case** | Variables, functions | `total_students`, `get_name()` |\n",
        "| **PascalCase** | Class names          | `StudentRecord`, `Car`         |\n",
        "| **camelCase**  | Less common          | `totalStudents`                |\n",
        "| **UPPER_CASE** | Constants            | `DAYS_IN_YEAR = 365`           |\n",
        "\n",
        "> PEP 8 prefers **snake_case** for variables/functions and **PascalCase** for classes.\n",
        "\n",
        "---\n",
        "\n",
        "### 3️⃣ **Documentation**\n",
        "\n",
        "### Comments\n",
        "\n",
        "```python\n",
        "# This is a single-line comment\n",
        "# Explains code for humans, ignored by Python\n",
        "```\n",
        "\n",
        "### Docstrings\n",
        "\n",
        "```python\n",
        "\"\"\"\n",
        "This is a multi-line docstring.\n",
        "Used to explain code, functions, or classes.\n",
        "Enclosed with triple quotes.\n",
        "\"\"\"\n",
        "```\n",
        "\n",
        "* Docstrings can be accessed programmatically using `.__doc__`\n"
      ],
      "metadata": {
        "id": "9AWrRE6ufjBd"
      }
    },
    {
      "cell_type": "code",
      "source": [],
      "metadata": {
        "id": "Fxl0NMnyfrl0"
      },
      "execution_count": null,
      "outputs": []
    }
  ]
}