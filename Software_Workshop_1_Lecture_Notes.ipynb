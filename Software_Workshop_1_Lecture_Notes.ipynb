{
  "nbformat": 4,
  "nbformat_minor": 0,
  "metadata": {
    "colab": {
      "provenance": [],
      "authorship_tag": "ABX9TyNqG9SFKwTEl9YWJvYy/wGv",
      "include_colab_link": true
    },
    "kernelspec": {
      "name": "python3",
      "display_name": "Python 3"
    },
    "language_info": {
      "name": "python"
    }
  },
  "cells": [
    {
      "cell_type": "markdown",
      "metadata": {
        "id": "view-in-github",
        "colab_type": "text"
      },
      "source": [
        "<a href=\"https://colab.research.google.com/github/irfanizzath/UOBD_Lectures/blob/main/Software_Workshop_1_Lecture_Notes.ipynb\" target=\"_parent\"><img src=\"https://colab.research.google.com/assets/colab-badge.svg\" alt=\"Open In Colab\"/></a>"
      ]
    },
    {
      "cell_type": "markdown",
      "source": [
        "# **Software Workshop - 1**"
      ],
      "metadata": {
        "id": "xVe5t12tAIVc"
      }
    },
    {
      "cell_type": "markdown",
      "source": [
        "**Week 1**\n",
        "\n"
      ],
      "metadata": {
        "id": "JJNbQswDAIWC"
      }
    },
    {
      "cell_type": "code",
      "execution_count": 3,
      "metadata": {
        "colab": {
          "base_uri": "https://localhost:8080/"
        },
        "id": "C1e-w9jw_7bu",
        "outputId": "1bd2387f-7b31-4e19-df71-c441b7df43e3"
      },
      "outputs": [
        {
          "output_type": "stream",
          "name": "stdout",
          "text": [
            "The boolean literals are:\n",
            "\n",
            "a is True\n",
            "b is False\n",
            "\n",
            "The first answer is 5 and the second answer is 10\n"
          ]
        }
      ],
      "source": [
        "a =  print(\"The boolean literals are:\")\n",
        "print()\n",
        "#1 is always True and 0 is alsways false\n",
        "\n",
        "a = (1 == True) #evaluate is 1 == 1\n",
        "b = (1 == False) #evaluate is 1 == 0, change the 1 to 0 to spot the difference\n",
        "\n",
        "ans = a + 4\n",
        "ans2 = b + 10\n",
        "\n",
        "print(\"a is\", a)\n",
        "print(\"b is\", b)\n",
        "print()\n",
        "print(\"The first answer is\", ans, \"and the second answer is\", ans2)"
      ]
    },
    {
      "cell_type": "markdown",
      "source": [
        "**Week 2**"
      ],
      "metadata": {
        "id": "rAMfaqKlAyEJ"
      }
    },
    {
      "cell_type": "code",
      "source": [
        "import keyword\n",
        "print(keyword.kwlist)"
      ],
      "metadata": {
        "colab": {
          "base_uri": "https://localhost:8080/"
        },
        "id": "gSeYTSfzACXK",
        "outputId": "1d0f0c8d-b990-4c52-fb2d-3e3fc7e537a3"
      },
      "execution_count": 4,
      "outputs": [
        {
          "output_type": "stream",
          "name": "stdout",
          "text": [
            "['False', 'None', 'True', 'and', 'as', 'assert', 'async', 'await', 'break', 'class', 'continue', 'def', 'del', 'elif', 'else', 'except', 'finally', 'for', 'from', 'global', 'if', 'import', 'in', 'is', 'lambda', 'nonlocal', 'not', 'or', 'pass', 'raise', 'return', 'try', 'while', 'with', 'yield']\n"
          ]
        }
      ]
    },
    {
      "cell_type": "code",
      "source": [
        "\n",
        "makeRed = \"\\033[1;31;40m\\n\"\n",
        "makeGreen = \"\\033[1;32;40m\\n\"\n",
        "makeBlack = \"\\033[1;30;40m\\n\"\n",
        "makeWhite = \"\\033[1;37;40m\\n\"\n",
        "makeBlue = \"\\034[1;37;40m\\n\"\n",
        "\n",
        "if makeRed > makeGreen:\n",
        "   print(f\"{makeRed} The colour will be RED\")\n",
        "else:\n",
        "   print(f\"{makeGreen} The colour will be GREEN\")\n"
      ],
      "metadata": {
        "colab": {
          "base_uri": "https://localhost:8080/"
        },
        "id": "2sJrda-ABHZR",
        "outputId": "d0c9a7aa-e374-43d5-f445-c13ee4af9daf"
      },
      "execution_count": 5,
      "outputs": [
        {
          "output_type": "stream",
          "name": "stdout",
          "text": [
            "\u001b[1;32;40m\n",
            " The colour will be GREEN\n"
          ]
        }
      ]
    },
    {
      "cell_type": "code",
      "source": [
        "Salary = int(input(\"Enter Salary:\"))\n",
        "\n",
        "\n",
        "if Salary < 20000:\n",
        "    tax = 0\n",
        "elif Salary > 20000 and Salary < 35000:\n",
        "    tax = 25\n",
        "elif Salary > 35000 and Salary < 55000:\n",
        "    tax = 35\n",
        "else:\n",
        "    tax = 50\n",
        "\n",
        "if tax == 0:\n",
        "    print(\"No tax to be paid\")\n",
        "else:\n",
        "    print(f'{tax}% tax to be paid')"
      ],
      "metadata": {
        "colab": {
          "base_uri": "https://localhost:8080/"
        },
        "id": "1WeqxPPfBMSZ",
        "outputId": "43bd769f-ac0e-4f9f-80b0-8d84cc092ba5"
      },
      "execution_count": 8,
      "outputs": [
        {
          "output_type": "stream",
          "name": "stdout",
          "text": [
            "Enter Salary:40000\n",
            "35% tax to be paid\n"
          ]
        }
      ]
    },
    {
      "cell_type": "code",
      "source": [
        "def is_weekend(day):\n",
        "    match day:\n",
        "        case \"Saturday\" | \"Sunday\":\n",
        "            return True\n",
        "        case \"Monday\" | \"Tuesday\" | \"Wednesday\" | \"Thursday\" | \"Friday\":\n",
        "            return False\n",
        "        case _:\n",
        "            return False\n",
        "day = input(\"Enter day of the week: \")\n",
        "is_weekend(day)"
      ],
      "metadata": {
        "colab": {
          "base_uri": "https://localhost:8080/"
        },
        "id": "QM-keyCeBNlb",
        "outputId": "1e994e82-ae34-48b2-dec8-26f314ca32b0"
      },
      "execution_count": 9,
      "outputs": [
        {
          "name": "stdout",
          "output_type": "stream",
          "text": [
            "Enter day of the week: Tuesday\n"
          ]
        },
        {
          "output_type": "execute_result",
          "data": {
            "text/plain": [
              "False"
            ]
          },
          "metadata": {},
          "execution_count": 9
        }
      ]
    },
    {
      "cell_type": "code",
      "source": [
        "number = 0\n",
        "sum = 0\n",
        "while number != -1:\n",
        "    number = int(input(\"Please type in a number, -1 to exit: \"))\n",
        "    if number != -1:\n",
        "        sum += number\n",
        "print(f\"The sum is {sum}\")"
      ],
      "metadata": {
        "colab": {
          "base_uri": "https://localhost:8080/"
        },
        "id": "fUoSNMF-BnZ4",
        "outputId": "b4048ef6-bb31-4d73-93a3-2d21e7e35f4b"
      },
      "execution_count": 10,
      "outputs": [
        {
          "output_type": "stream",
          "name": "stdout",
          "text": [
            "Please type in a number, -1 to exit: 5\n",
            "Please type in a number, -1 to exit: 5\n",
            "Please type in a number, -1 to exit: 8\n",
            "Please type in a number, -1 to exit: -1\n",
            "The sum is 18\n"
          ]
        }
      ]
    },
    {
      "cell_type": "code",
      "source": [
        "import random\n",
        "num = random.randint(1,100)\n",
        "print(num)"
      ],
      "metadata": {
        "colab": {
          "base_uri": "https://localhost:8080/"
        },
        "id": "6AVoDjlBBt5u",
        "outputId": "8158d554-90f2-4cb0-cb35-2edf85492d2c"
      },
      "execution_count": 12,
      "outputs": [
        {
          "output_type": "stream",
          "name": "stdout",
          "text": [
            "39\n"
          ]
        }
      ]
    },
    {
      "cell_type": "code",
      "source": [],
      "metadata": {
        "id": "oPXotKS6B8f4"
      },
      "execution_count": null,
      "outputs": []
    }
  ]
}